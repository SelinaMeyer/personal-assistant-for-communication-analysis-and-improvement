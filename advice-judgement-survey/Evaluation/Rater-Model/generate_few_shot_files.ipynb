{
 "cells": [
  {
   "cell_type": "code",
   "execution_count": 1,
   "metadata": {},
   "outputs": [],
   "source": [
    "import pandas as pd\n",
    "import json\n",
    "\n",
    "def create_few_shot_files(dat, filename, context):\n",
    "    \"\"\"\n",
    "    Generate a few-shot learning prompt file based on the provided context and save it as a JSON file.\n",
    "\n",
    "    Parameters:\n",
    "    dat (DataFrame): Data containing chat contexts and advice.\n",
    "    filename (str): Identifier for the type of relationship context (e.g., 'relationship', 'friendship').\n",
    "    context (str): Specific advice context ('Advice for culprit', 'Advice for victim', 'Next reply').\n",
    "    \"\"\"\n",
    "\n",
    "    # Filter data to include only rows matching the given context\n",
    "    advice = dat[dat[\"context\"] == context].copy() # Advice for victim, Advice for culprit, Next reply\n",
    "\n",
    "    # Mapping of filename to relationship context\n",
    "    relationship_dict = {\n",
    "        \"relationship\": \"romantic partner\",\n",
    "        \"friendship\": \"friends\",\n",
    "        \"workplace-no-hierarchy\": \"colleagues\",\n",
    "        \"workplace-hierarchy\": \"manager\"\n",
    "    }\n",
    "\n",
    "    # Mapping of context to conversational prompt\n",
    "    conversational_contexts = {\n",
    "        \"Advice for culprit\": \"I feel I might have acted wrong in the conversation. Did I make any mistakes? What could I do better?\",\n",
    "        \"Advice for victim\": \"The conversation leaves me uneasy, but I do not know why. What went wrong in this interaction?\",\n",
    "        \"Next reply\": \"I don't like the way this interaction went. What should I say next? Why would that be the right reaction?\"\n",
    "    }\n",
    "\n",
    "    # Mapping of context to relevant column in data\n",
    "    column = {\n",
    "        \"Advice for culprit\": \"culprit\",\n",
    "        \"Advice for victim\": \"Victim\",\n",
    "        \"Next reply\": \"Victim\"\n",
    "    }\n",
    "\n",
    "    # Initial few-shot prompt for the system role\n",
    "    few_shot_prompt = [{\"role\": \"system\", \"content\": \"\"\"You are an experienced psychologist and relationship and communication expert. \n",
    "         You know everything about how people communicate and can pinpoint and recognize the most subtle forms of manipulation and toxic behaviour.\"\"\"}]\n",
    "    for index, row in advice.iterrows():\n",
    "        # Construct the user's chat and corresponding assistant's advice\n",
    "        user_string = f\"\"\"The following is a chat between me ({row[column.get(context)]}) and my {relationship_dict.get(filename)}: \n",
    "                            \n",
    "                            {row['chat_text']}\n",
    "                            \n",
    "                            {conversational_contexts.get(context)}\"\"\"\n",
    "        assistant_string = row['advice_text']\n",
    "        # Append user and assistant messages to the few-shot prompt\n",
    "        few_shot_prompt.append({\"role\": \"user\", \"content\": user_string})\n",
    "        few_shot_prompt.append({\"role\": \"assistant\", \"content\": assistant_string})\n",
    "\n",
    "    # Write the constructed few-shot prompt to a JSON file\n",
    "    with open(f\"../../assistant/few_shot_prompts/{filename}-{context}.json\", \"w\") as file:\n",
    "        json.dump(few_shot_prompt, file)\n",
    "        "
   ]
  },
  {
   "cell_type": "code",
   "execution_count": 2,
   "metadata": {},
   "outputs": [],
   "source": [
    "# Reading in file of rated advice\n",
    "\n",
    "dat = pd.read_csv(\"rated_advice.csv\", index_col=\"Unnamed: 0\")\n",
    "orig_chat_file = pd.read_csv(\"chats.csv\")\n",
    "orig_chat_file.rename(columns={\"Chat_id\": \"original_chat_id\"}, inplace=True)\n",
    "dat.replace({\"Mixtral\": \"mixtral\"}, inplace=True)"
   ]
  },
  {
   "cell_type": "code",
   "execution_count": 6,
   "metadata": {},
   "outputs": [
    {
     "data": {
      "text/html": [
       "<div>\n",
       "<style scoped>\n",
       "    .dataframe tbody tr th:only-of-type {\n",
       "        vertical-align: middle;\n",
       "    }\n",
       "\n",
       "    .dataframe tbody tr th {\n",
       "        vertical-align: top;\n",
       "    }\n",
       "\n",
       "    .dataframe thead th {\n",
       "        text-align: right;\n",
       "    }\n",
       "</style>\n",
       "<table border=\"1\" class=\"dataframe\">\n",
       "  <thead>\n",
       "    <tr style=\"text-align: right;\">\n",
       "      <th></th>\n",
       "      <th>count</th>\n",
       "      <th>mean</th>\n",
       "      <th>std</th>\n",
       "      <th>min</th>\n",
       "      <th>25%</th>\n",
       "      <th>50%</th>\n",
       "      <th>75%</th>\n",
       "      <th>max</th>\n",
       "    </tr>\n",
       "    <tr>\n",
       "      <th>model</th>\n",
       "      <th></th>\n",
       "      <th></th>\n",
       "      <th></th>\n",
       "      <th></th>\n",
       "      <th></th>\n",
       "      <th></th>\n",
       "      <th></th>\n",
       "      <th></th>\n",
       "    </tr>\n",
       "  </thead>\n",
       "  <tbody>\n",
       "    <tr>\n",
       "      <th>claude</th>\n",
       "      <td>66.0</td>\n",
       "      <td>4.106061</td>\n",
       "      <td>1.216917</td>\n",
       "      <td>1.0</td>\n",
       "      <td>4.0</td>\n",
       "      <td>5.0</td>\n",
       "      <td>5.0</td>\n",
       "      <td>5.0</td>\n",
       "    </tr>\n",
       "    <tr>\n",
       "      <th>gpt-4</th>\n",
       "      <td>24.0</td>\n",
       "      <td>4.333333</td>\n",
       "      <td>0.916831</td>\n",
       "      <td>2.0</td>\n",
       "      <td>4.0</td>\n",
       "      <td>5.0</td>\n",
       "      <td>5.0</td>\n",
       "      <td>5.0</td>\n",
       "    </tr>\n",
       "    <tr>\n",
       "      <th>llama3</th>\n",
       "      <td>39.0</td>\n",
       "      <td>4.230769</td>\n",
       "      <td>1.012073</td>\n",
       "      <td>2.0</td>\n",
       "      <td>4.0</td>\n",
       "      <td>5.0</td>\n",
       "      <td>5.0</td>\n",
       "      <td>5.0</td>\n",
       "    </tr>\n",
       "    <tr>\n",
       "      <th>mixtral</th>\n",
       "      <td>24.0</td>\n",
       "      <td>4.500000</td>\n",
       "      <td>0.932505</td>\n",
       "      <td>2.0</td>\n",
       "      <td>4.0</td>\n",
       "      <td>5.0</td>\n",
       "      <td>5.0</td>\n",
       "      <td>5.0</td>\n",
       "    </tr>\n",
       "  </tbody>\n",
       "</table>\n",
       "</div>"
      ],
      "text/plain": [
       "         count      mean       std  min  25%  50%  75%  max\n",
       "model                                                      \n",
       "claude    66.0  4.106061  1.216917  1.0  4.0  5.0  5.0  5.0\n",
       "gpt-4     24.0  4.333333  0.916831  2.0  4.0  5.0  5.0  5.0\n",
       "llama3    39.0  4.230769  1.012073  2.0  4.0  5.0  5.0  5.0\n",
       "mixtral   24.0  4.500000  0.932505  2.0  4.0  5.0  5.0  5.0"
      ]
     },
     "execution_count": 6,
     "metadata": {},
     "output_type": "execute_result"
    }
   ],
   "source": [
    "dat.groupby(\"model\").rating.describe()"
   ]
  },
  {
   "cell_type": "code",
   "execution_count": 8,
   "metadata": {},
   "outputs": [],
   "source": [
    "# Filter advice by mean rating. Only advice with a mean rating of at least 4 (out of 5) is used for few-shot learning\n",
    "mean_rating = dat.groupby(\"advice_id\").rating.mean()\n",
    "dat['mean_rating'] = dat.groupby(\"advice_id\")['rating'].transform('mean')\n",
    "dat['concatenated_feedback'] = dat.groupby('advice_id')['text_feedback'].transform(lambda x: ' \\n'.join(x))\n",
    "dat = pd.merge(dat, orig_chat_file[[\"Victim\", \"culprit\", \"original_chat_id\"]], on=\"original_chat_id\")\n",
    "dat_filtered = dat[dat[\"mean_rating\"] >= 4]"
   ]
  },
  {
   "cell_type": "code",
   "execution_count": 11,
   "metadata": {},
   "outputs": [
    {
     "data": {
      "text/plain": [
       "(33, 38, 27, 29)"
      ]
     },
     "execution_count": 11,
     "metadata": {},
     "output_type": "execute_result"
    }
   ],
   "source": [
    "dat_relationship = dat_filtered[dat_filtered[\"interaction_context\"] == \"Relationship\"].copy()\n",
    "dat_friendship = dat_filtered[dat_filtered[\"interaction_context\"] == \"friendship\"].copy()\n",
    "dat_colleagues = dat_filtered[dat_filtered[\"interaction_context\"] == \"workplace-no-hierarchy\"].copy()\n",
    "dat_manager = dat_filtered[dat_filtered[\"interaction_context\"] == \"Workplace-hierarchy\"].copy()\n",
    "\n",
    "len(dat_relationship), len(dat_friendship), len(dat_colleagues), len(dat_manager)"
   ]
  },
  {
   "cell_type": "code",
   "execution_count": null,
   "metadata": {},
   "outputs": [],
   "source": [
    "dat_relationship.drop_duplicates(subset=\"advice_id\", inplace=True)\n",
    "dat_friendship.drop_duplicates(subset=\"advice_id\", inplace=True)\n",
    "dat_colleagues.drop_duplicates(subset=\"advice_id\", inplace=True)\n",
    "dat_manager.drop_duplicates(subset=\"advice_id\", inplace=True)"
   ]
  },
  {
   "cell_type": "code",
   "execution_count": 51,
   "metadata": {},
   "outputs": [],
   "source": [
    "create_few_shot_files(dat_relationship[dat_relationship[\"context\"] == \"Advice for culprit\"], \"relationship\", \"Advice for culprit\")\n",
    "create_few_shot_files(dat_relationship[dat_relationship[\"context\"] == \"Advice for victim\"], \"relationship\", \"Advice for victim\")\n",
    "create_few_shot_files(dat_relationship[dat_relationship[\"context\"] == \"Next reply\"], \"relationship\", \"Next reply\")"
   ]
  },
  {
   "cell_type": "code",
   "execution_count": 57,
   "metadata": {},
   "outputs": [],
   "source": [
    "create_few_shot_files(dat_friendship[dat_friendship[\"context\"] == \"Advice for culprit\"], \"friendship\", \"Advice for culprit\")\n",
    "create_few_shot_files(dat_friendship[dat_friendship[\"context\"] == \"Advice for victim\"], \"friendship\", \"Advice for victim\")\n",
    "\n",
    "create_few_shot_files(dat_colleagues[dat_colleagues[\"context\"] == \"Advice for culprit\"], \"workplace-no-hierarchy\", \"Advice for culprit\")\n",
    "create_few_shot_files(dat_colleagues[dat_colleagues[\"context\"] == \"Advice for victim\"], \"workplace-no-hierarchy\", \"Advice for victim\")\n",
    "\n",
    "create_few_shot_files(dat_manager[dat_manager[\"context\"] == \"Advice for culprit\"], \"workplace-hierarchy\", \"Advice for culprit\")\n",
    "create_few_shot_files(dat_manager[dat_manager[\"context\"] == \"Advice for victim\"], \"workplace-hierarchy\", \"Advice for victim\")\n",
    "create_few_shot_files(dat_manager[dat_manager[\"context\"] == \"Next reply\"], \"workplace-hierarchy\", \"Next reply\")"
   ]
  }
 ],
 "metadata": {
  "kernelspec": {
   "display_name": ".venv",
   "language": "python",
   "name": "python3"
  },
  "language_info": {
   "codemirror_mode": {
    "name": "ipython",
    "version": 3
   },
   "file_extension": ".py",
   "mimetype": "text/x-python",
   "name": "python",
   "nbconvert_exporter": "python",
   "pygments_lexer": "ipython3",
   "version": "3.11.9"
  }
 },
 "nbformat": 4,
 "nbformat_minor": 2
}
